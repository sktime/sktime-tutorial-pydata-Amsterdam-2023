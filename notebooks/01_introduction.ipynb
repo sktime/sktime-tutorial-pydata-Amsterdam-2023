{
 "cells": [
  {
   "attachments": {},
   "cell_type": "markdown",
   "metadata": {},
   "source": [
    "![](./img/sktime-logo-text-horizontal.jpg)"
   ]
  },
  {
   "attachments": {},
   "cell_type": "markdown",
   "metadata": {},
   "source": [
    "### Agenda for today\n",
    "\n",
    "1. General introduction to `sklearn`, `sktime`, `skpro`\n",
    "\n",
    "2. High-level introduction to probabilistic prediction - interface and methodological\n",
    "\n",
    "3. `skpro` advanced features - feature extraction, tuning, autoML\n",
    "\n",
    "4. probabilistic forecasting with `sktime`"
   ]
  },
  {
   "attachments": {},
   "cell_type": "markdown",
   "metadata": {},
   "source": [
    "### Running the notebooks"
   ]
  },
  {
   "attachments": {},
   "cell_type": "markdown",
   "metadata": {},
   "source": [
    "all notebooks available on `github.com/sktime`\n",
    "\n",
    "repository: `github.com/sktime/sktime-tutorial-pydata-Amsterdam-2023`\n",
    "\n",
    "* README instructions to run notebooks locally\n",
    "* binder to run notebooks in the cloud (if wifi allows)\n",
    "\n",
    "help, Q&A, developer chat in [`sktime` tutorial discord thread](https://discord.com/channels/1120766458528542794/1130170803137282118)"
   ]
  },
  {
   "attachments": {},
   "cell_type": "markdown",
   "metadata": {},
   "source": [
    "## 1 - Introduction to ``sktime`` & ``skpro``\n",
    "\n",
    "### 1.1 What is ``sktime``, ``skpro``?\n",
    "\n",
    "- [`sktime`](https://www.sktime.net/en/latest/index.html) is a python library for time series learning tasks!\n",
    "  - check [our website](https://www.sktime.net/en/latest/index.html)\n",
    "  - integrative framework layer in the time series space"
   ]
  },
  {
   "cell_type": "markdown",
   "metadata": {},
   "source": [
    "- [`skpro`](https://skpro.readthedocs.io/en/latest/) is a python library for tabular probabilistic regression and probability distributions\n",
    "    - `sktime` spin-off, rearchitecture of earlier package using `skbase`\n",
    "    - maintained by the `sktime` community"
   ]
  },
  {
   "attachments": {},
   "cell_type": "markdown",
   "metadata": {},
   "source": [
    "- `sklearn` / `sktime` / `skpro` design principles:\n",
    "  - unified interface for objects/estimators\n",
    "  - modular design, strategy pattern\n",
    "  - composable, composites are interface homogenous\n",
    "  - simple specification language and parameter interface"
   ]
  },
  {
   "attachments": {},
   "cell_type": "markdown",
   "metadata": {},
   "source": [
    "- `sktime` is a vibrant, welcoming community with mentoring opportunities!\n",
    "  - We *love* new contributors. Especially if you are new to open source!\n",
    "      - join the ``sktime`` sprint this week-end at pydata Amsterdam! Gentle intro to contributing!\n",
    "  - Check out the ``sktime`` [new contributors guide](https://www.sktime.net/en/latest/get_involved/contributing.html)\n",
    "  - join our [discord](https://discord.com/invite/54ACzaFsn7) and/or one of our regular meetups!\n",
    "  - follow us on [LinkedIn](https://www.linkedin.com/company/scikit-time/)!\n",
    "  - star us on [GitHub](https://github.com/sktime/sktime)!"
   ]
  },
  {
   "attachments": {},
   "cell_type": "markdown",
   "metadata": {},
   "source": [
    "### 1.2 sklearn unified interface - the strategy pattern\n",
    "\n",
    "`sklearn` provides a unified interface to multiple learning tasks including classification, regression.\n",
    "\n",
    "any (supervised) estimator has the following interface points\n",
    "\n",
    "1. **Instantiate** your model of choice, with parameter settings\n",
    "2. **Fit** the instance of your model\n",
    "3. Use that fitted instance to **predict** new data!\n",
    "\n",
    "![](./img/estimator-conceptual-model.jpg)"
   ]
  },
  {
   "cell_type": "code",
   "execution_count": 1,
   "metadata": {},
   "outputs": [],
   "source": [
    "# get data to use the model on\n",
    "from sklearn.datasets import load_iris\n",
    "from sklearn.model_selection import train_test_split\n",
    "\n",
    "X, y = load_iris(return_X_y=True, as_frame=True)\n",
    "X_train, X_test, y_train, y_test = train_test_split(X, y)\n",
    "\n",
    "# data are pd.DataFrame/pd.Series\n",
    "# X_train.shape = (112, 4)  - 112 train flowers times 4 features\n",
    "#                             sepal length, sepal width, petal length, petal width\n",
    "# y_train.shape = (112,)    - 112 categorical labels  - one of 3 flower types 0, 1, 2\n",
    "# X_test.shape = (38, 4)  - 38 test flowers times 4 features\n",
    "# y_test.shape = (38,)    - 38 cagetorical labels - one of 3 flower types\n"
   ]
  },
  {
   "cell_type": "code",
   "execution_count": 2,
   "metadata": {},
   "outputs": [
    {
     "data": {
      "text/plain": [
       "array([1, 0, 1, 0, 2, 2, 0, 1, 0, 2, 1, 1, 2, 0, 0, 1, 2, 1, 1, 1, 1, 1,\n",
       "       1, 1, 2, 2, 0, 2, 1, 2, 0, 2, 2, 0, 0, 2, 0, 2])"
      ]
     },
     "execution_count": 2,
     "metadata": {},
     "output_type": "execute_result"
    }
   ],
   "source": [
    "from sklearn.svm import SVC\n",
    "\n",
    "# 1. Instantiate SVC with parameters gamma, C\n",
    "clf = SVC(gamma=0.001, C=100.)\n",
    "# clf is an instance of SVC now\n",
    "\n",
    "# 2. Fit clf to training data = 112 feature/label pairs\n",
    "clf.fit(X_train, y_train)\n",
    "# clf changes state to \"fitted\", computes model\n",
    "\n",
    "# 3. Predict labels on test data = 38 feature vectors\n",
    "y_test_pred = clf.predict(X_test)\n",
    "# produces predictions for the test data, 38 labels\n",
    "\n",
    "y_test_pred\n",
    "# y_test_pred.shape = (38,)"
   ]
  },
  {
   "attachments": {},
   "cell_type": "markdown",
   "metadata": {},
   "source": [
    "IMPORTANT: to use another classifier, only the specification line, part 1 changes!\n",
    "\n",
    "`SVC` could have been `RandomForest`, steps 2 and 3 remain the same - unified interface:"
   ]
  },
  {
   "cell_type": "code",
   "execution_count": 3,
   "metadata": {},
   "outputs": [
    {
     "data": {
      "text/plain": [
       "array([1, 0, 1, 0, 2, 2, 0, 1, 0, 2, 1, 1, 2, 0, 0, 1, 2, 1, 1, 1, 1, 1,\n",
       "       1, 1, 2, 2, 0, 2, 1, 2, 0, 2, 2, 0, 0, 2, 0, 2])"
      ]
     },
     "execution_count": 3,
     "metadata": {},
     "output_type": "execute_result"
    }
   ],
   "source": [
    "from sklearn.ensemble import RandomForestClassifier\n",
    "\n",
    "# 1. Instantiate SVC with parameters gamma, C\n",
    "clf = RandomForestClassifier(n_estimators=100)\n",
    "\n",
    "# 2. Fit clf to training data\n",
    "clf.fit(X_train, y_train)\n",
    "\n",
    "# 3. Predict labels on test data\n",
    "y_test_pred = clf.predict(X_test)\n",
    "\n",
    "y_test_pred"
   ]
  },
  {
   "attachments": {},
   "cell_type": "markdown",
   "metadata": {},
   "source": [
    "in object oriented design terminology, this is called **\"strategy pattern\"**\n",
    "\n",
    "= different estimators can be switched out without change to the interface\n",
    "\n",
    "= like a power plug adapter, it's plug&play if it conforms with the interface\n",
    "\n",
    "Pictorial summary:\n",
    "![](./img/sklearn-unified-interface.jpg)"
   ]
  },
  {
   "attachments": {},
   "cell_type": "markdown",
   "metadata": {},
   "source": [
    "`sklearn` estimators are parametric:\n",
    "\n",
    "all parameters in the \"blueprint\" accessed and set via `get_params`, `set_params`:"
   ]
  },
  {
   "cell_type": "code",
   "execution_count": 4,
   "metadata": {},
   "outputs": [
    {
     "data": {
      "text/plain": [
       "{'bootstrap': True,\n",
       " 'ccp_alpha': 0.0,\n",
       " 'class_weight': None,\n",
       " 'criterion': 'gini',\n",
       " 'max_depth': None,\n",
       " 'max_features': 'sqrt',\n",
       " 'max_leaf_nodes': None,\n",
       " 'max_samples': None,\n",
       " 'min_impurity_decrease': 0.0,\n",
       " 'min_samples_leaf': 1,\n",
       " 'min_samples_split': 2,\n",
       " 'min_weight_fraction_leaf': 0.0,\n",
       " 'n_estimators': 100,\n",
       " 'n_jobs': None,\n",
       " 'oob_score': False,\n",
       " 'random_state': None,\n",
       " 'verbose': 0,\n",
       " 'warm_start': False}"
      ]
     },
     "execution_count": 4,
     "metadata": {},
     "output_type": "execute_result"
    }
   ],
   "source": [
    "clf.get_params()"
   ]
  },
  {
   "attachments": {},
   "cell_type": "markdown",
   "metadata": {},
   "source": [
    "### 1.3 `sktime` is devoted to time-series data analysis\n",
    "\n",
    "Richer space of time series tasks, compared to \"tabular\":\n",
    "\n",
    "- **Forecasting** - predict energy consumption tomorrow, based on past weeks\n",
    "- **Classification** - classify electrocardiograms to healthy/sick, based on prior examples\n",
    "- **Regression** - predict compound purity in bioreactor based on temperature/pressure profile\n",
    "- **Clustering** - sort outlines of tree leaves into a small number of similar classes\n",
    "- **Annotation** - identify jumps, anomalies, events in a data stream"
   ]
  },
  {
   "attachments": {},
   "cell_type": "markdown",
   "metadata": {},
   "source": [
    "`sktime` aims to provide `sklearn`-like, modular, composable, interfaces for these!"
   ]
  },
  {
   "attachments": {},
   "cell_type": "markdown",
   "metadata": {},
   "source": [
    "| Task | Status | Links |\n",
    "|---|---|---|\n",
    "| **Forecasting** | stable | [Tutorial](https://www.sktime.net/en/latest/examples/01_forecasting.html) · [API Reference](https://www.sktime.net/en/latest/api_reference/forecasting.html) · [Extension Template](https://github.com/sktime/sktime/blob/main/extension_templates/forecasting.py)  |\n",
    "| **Time Series Classification** | stable | [Tutorial](https://github.com/sktime/sktime/blob/main/examples/02_classification.ipynb) · [API Reference](https://www.sktime.net/en/latest/api_reference/classification.html) · [Extension Template](https://github.com/sktime/sktime/blob/main/extension_templates/classification.py) |\n",
    "| **Time Series Regression** | stable | [API Reference](https://www.sktime.net/en/latest/api_reference/regression.html) |\n",
    "| **Transformations** | stable | [Tutorial](https://github.com/sktime/sktime/blob/main/examples/03_transformers.ipynb) · [API Reference](https://www.sktime.net/en/latest/api_reference/transformations.html) · [Extension Template](https://github.com/sktime/sktime/blob/main/extension_templates/transformer.py)  |\n",
    "| **Parameter fitting** | maturing | [API Reference](https://www.sktime.net/en/latest/api_reference/param_est.html) · [Extension Template](https://github.com/sktime/sktime/blob/main/extension_templates/transformer.py)  |\n",
    "| **Time Series Clustering** | maturing | [API Reference](https://www.sktime.net/en/latest/api_reference/clustering.html) ·  [Extension Template](https://github.com/sktime/sktime/blob/main/extension_templates/clustering.py) |\n",
    "| **Time Series Distances/Kernels** | maturing | [Tutorial](https://github.com/sktime/sktime/blob/main/examples/03_transformers.ipynb) · [API Reference](https://www.sktime.net/en/latest/api_reference/dists_kernels.html) · [Extension Template](https://github.com/sktime/sktime/blob/main/extension_templates/dist_kern_panel.py) |\n",
    "| **Annotation** | experimental | [Extension Template](https://github.com/sktime/sktime/blob/main/extension_templates/annotation.py) |\n",
    "| **Distributions and simulation** | experimental |  |"
   ]
  },
  {
   "attachments": {},
   "cell_type": "markdown",
   "metadata": {},
   "source": [
    "Example - forecasting"
   ]
  },
  {
   "attachments": {},
   "cell_type": "markdown",
   "metadata": {},
   "source": [
    "![](./img/tasks-forecasting.png)"
   ]
  },
  {
   "cell_type": "code",
   "execution_count": 5,
   "metadata": {},
   "outputs": [],
   "source": [
    "from sktime.datasets import load_airline\n",
    "from sktime.forecasting.naive import NaiveForecaster\n",
    "import numpy as np\n",
    "\n",
    "# step 1: data specification\n",
    "y = load_airline()\n",
    "# y = pandas.Series, y.shape = (150,)\n",
    "# 150 months of monthly observations\n",
    "\n",
    "# step 2: specifying forecasting horizon\n",
    "fh = np.arange(1, 37)\n",
    "# we want to forecast 36 months = 3 years\n",
    "\n",
    "# step 3: specifying the forecasting algorithm\n",
    "forecaster = NaiveForecaster(strategy=\"last\", sp=12)\n",
    "\n",
    "# step 4: fitting the forecaster\n",
    "forecaster.fit(y, fh=fh)\n",
    "\n",
    "# step 5: querying predictions\n",
    "y_pred = forecaster.predict()\n",
    "# y_pred is a \"continuation\" of y\n",
    "# y_pred.shape = (36,) = forecasts for 36 months"
   ]
  },
  {
   "cell_type": "markdown",
   "metadata": {},
   "source": [
    "or, probabilistic forecast, e.g., interval forecast:"
   ]
  },
  {
   "cell_type": "code",
   "execution_count": 6,
   "metadata": {},
   "outputs": [
    {
     "data": {
      "image/png": "[encoded data removed]",
      "text/plain": [
       "<Figure size 1600x400 with 1 Axes>"
      ]
     },
     "metadata": {},
     "output_type": "display_data"
    }
   ],
   "source": [
    "from sktime.utils import plotting\n",
    "\n",
    "# aprobabilistic forecast - interval forecast\n",
    "y_pred_int = forecaster.predict_interval()\n",
    "\n",
    "fig, ax = plotting.plot_series(\n",
    "    y, y_pred, labels=[\"y\", \"y_pred\"], pred_interval=y_pred_int\n",
    ")"
   ]
  },
  {
   "attachments": {},
   "cell_type": "markdown",
   "metadata": {},
   "source": [
    "### 1.4 `sktime` integrates the time series modelling ecosystem!\n",
    "\n",
    "the package space for time series is highly fragmented:\n",
    "\n",
    "* lots of great implementations and methods out there!\n",
    "* but many different interfaces, not composable like `sklearn`\n",
    "\n",
    "`sktime` integrates the ecosystem - in friendly collaboration with all the packages out there!\n",
    "\n",
    "* unified interface standard\n",
    "* highly composable\n",
    "* mini-package manager on estiator/module level\n",
    "* easily extensible - 3rd party plugins, other packages\n",
    "\n",
    "![](./img/unified_framework.png)"
   ]
  },
  {
   "cell_type": "markdown",
   "metadata": {},
   "source": [
    "### 1.5 What are probabilistic predictions?"
   ]
  },
  {
   "cell_type": "markdown",
   "metadata": {},
   "source": [
    "![](./img/predict_proba.jpg)"
   ]
  },
  {
   "cell_type": "markdown",
   "metadata": {},
   "source": [
    "today: probabilistic predictions of *numbers*\n",
    "\n",
    "* tabular: probabilistic regression\n",
    "* sequential: probabilistic forecasting"
   ]
  },
  {
   "cell_type": "markdown",
   "metadata": {},
   "source": [
    "example from above: predictive intervals"
   ]
  },
  {
   "cell_type": "code",
   "execution_count": 7,
   "metadata": {},
   "outputs": [
    {
     "data": {
      "text/html": [
       "<div>\n",
       "<style scoped>\n",
       "    .dataframe tbody tr th:only-of-type {\n",
       "        vertical-align: middle;\n",
       "    }\n",
       "\n",
       "    .dataframe tbody tr th {\n",
       "        vertical-align: top;\n",
       "    }\n",
       "\n",
       "    .dataframe thead tr th {\n",
       "        text-align: left;\n",
       "    }\n",
       "</style>\n",
       "<table border=\"1\" class=\"dataframe\">\n",
       "  <thead>\n",
       "    <tr>\n",
       "      <th></th>\n",
       "      <th colspan=\"2\" halign=\"left\">Number of airline passengers</th>\n",
       "    </tr>\n",
       "    <tr>\n",
       "      <th></th>\n",
       "      <th colspan=\"2\" halign=\"left\">0.9</th>\n",
       "    </tr>\n",
       "    <tr>\n",
       "      <th></th>\n",
       "      <th>lower</th>\n",
       "      <th>upper</th>\n",
       "    </tr>\n",
       "  </thead>\n",
       "  <tbody>\n",
       "    <tr>\n",
       "      <th>1961-01</th>\n",
       "      <td>357.265915</td>\n",
       "      <td>476.734085</td>\n",
       "    </tr>\n",
       "    <tr>\n",
       "      <th>1961-02</th>\n",
       "      <td>331.265915</td>\n",
       "      <td>450.734085</td>\n",
       "    </tr>\n",
       "    <tr>\n",
       "      <th>1961-03</th>\n",
       "      <td>359.265915</td>\n",
       "      <td>478.734085</td>\n",
       "    </tr>\n",
       "    <tr>\n",
       "      <th>1961-04</th>\n",
       "      <td>401.265915</td>\n",
       "      <td>520.734085</td>\n",
       "    </tr>\n",
       "    <tr>\n",
       "      <th>1961-05</th>\n",
       "      <td>412.265915</td>\n",
       "      <td>531.734085</td>\n",
       "    </tr>\n",
       "  </tbody>\n",
       "</table>\n",
       "</div>"
      ],
      "text/plain": [
       "        Number of airline passengers            \n",
       "                                 0.9            \n",
       "                               lower       upper\n",
       "1961-01                   357.265915  476.734085\n",
       "1961-02                   331.265915  450.734085\n",
       "1961-03                   359.265915  478.734085\n",
       "1961-04                   401.265915  520.734085\n",
       "1961-05                   412.265915  531.734085"
      ]
     },
     "execution_count": 7,
     "metadata": {},
     "output_type": "execute_result"
    }
   ],
   "source": [
    "y_pred_int.head()\n",
    "# in 90% of cases (90% nominal predictive coverage)\n",
    "# in 1961 Jan\n",
    "# the number of passengers will be between 357 and 476"
   ]
  },
  {
   "cell_type": "markdown",
   "metadata": {},
   "source": [
    "Good to know no.1:\n",
    "\n",
    "probabilistic predictions are not always correct,\n",
    "\n",
    "we need to evaluate them just like point preds\n",
    "\n",
    "![](./img/predict_proba_good.jpg)"
   ]
  },
  {
   "cell_type": "markdown",
   "metadata": {},
   "source": [
    "Good to know no.2:\n",
    "\n",
    "metrics compare the above with the actual - actual is not probabilistic\n",
    "\n",
    "![](./img/proba_loss.jpg)"
   ]
  },
  {
   "cell_type": "markdown",
   "metadata": {},
   "source": [
    "therefore, `skpro` and `sktime` provide:\n",
    "\n",
    "* performance metrics for probabilistic predictions\n",
    "* model selection (grid tuning etc) via metrics\n",
    "* evaluation and benchmark for probabilistic predictions\n",
    "\n",
    "just like one would expect from best practice :-)"
   ]
  },
  {
   "attachments": {},
   "cell_type": "markdown",
   "metadata": {},
   "source": [
    "### 1.6 Summary/What is next!\n",
    "\n",
    "- `sklearn` interface: unified interface (strategy pattern), modular, composition stable, easy specification language\n",
    "- `sktime` evolves the interface for time series learning tasks\n",
    "- `sktime` integrates a fragmented ecosytem with interface, composability, dependency management\n",
    "- `skpro` covers tabular probabilistic regression, tabular probability distributions\n",
    "\n",
    "- today:\n",
    "    * deep dive `skpro`\n",
    "        * probabilistic predictions, metrics\n",
    "        * tuning, pipelines, reductions to turn an `sklearn` regressor proba\n",
    "    * probabilistic forecasting with `sktime`"
   ]
  },
  {
   "attachments": {},
   "cell_type": "markdown",
   "metadata": {},
   "source": [
    "---\n",
    "### Credits: notebook 1 - `sktime` intro\n",
    "\n",
    "notebook creation: fkiraly, marrov\n",
    "\n",
    "some vignettes based on existing `sktime` tutorials, credit: fkiraly, miraep8\n",
    "\n",
    "slides (png/jpg):\n",
    "\n",
    "* from fkiraly's postgraduate course at UCL, Principles and Patterns in Data Scientific Software Engineering\n",
    "* from fkiraly's presentations on probabilistic supervised learning, `sktime` and `skpro`\n",
    "* ecosystem slide: fkiraly, mloning\n",
    "* \"forecasting\" picture: fkiraly, mloning\n",
    "\n",
    "General credit also to `sklearn` and `sktime` contributors"
   ]
  }
 ],
 "metadata": {
  "kernelspec": {
   "display_name": "Python 3.8.13 ('pydata22')",
   "language": "python",
   "name": "python3"
  },
  "language_info": {
   "codemirror_mode": {
    "name": "ipython",
    "version": 3
   },
   "file_extension": ".py",
   "mimetype": "text/x-python",
   "name": "python",
   "nbconvert_exporter": "python",
   "pygments_lexer": "ipython3",
   "version": "3.11.3"
  },
  "orig_nbformat": 4,
  "vscode": {
   "interpreter": {
    "hash": "e61b44dca3bf47c8973c8cd627825697e2dad493e19dd6592afda0a0a3c312a0"
   }
  }
 },
 "nbformat": 4,
 "nbformat_minor": 2
}
