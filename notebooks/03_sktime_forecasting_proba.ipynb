{
 "cells": [
  {
   "cell_type": "markdown",
   "id": "cubic-guest",
   "metadata": {},
   "source": [
    "# Probabilistic Forecasting with `sktime`"
   ]
  },
  {
   "cell_type": "markdown",
   "id": "2bf7ad11",
   "metadata": {},
   "source": [
    "### Overview of this notebook\n",
    "\n",
    "* quick start - probabilistic forecasting\n",
    "* disambiguation - types of probabilistic forecasts\n",
    "* details: probabilistic forecasting interfaces\n",
    "* metrics for, and evaluation of probabilistic forecasts\n",
    "* advanced composition: pipelines, tuning, reduction\n",
    "* extender guide\n",
    "* contributor credits"
   ]
  },
  {
   "cell_type": "code",
   "execution_count": null,
   "id": "52c8ada0",
   "metadata": {},
   "outputs": [],
   "source": [
    "import warnings\n",
    "\n",
    "warnings.filterwarnings(\"ignore\")"
   ]
  },
  {
   "cell_type": "markdown",
   "id": "6586a019",
   "metadata": {},
   "source": [
    "---\n",
    "### Quick Start - Probabilistic Forecasting with `sktime`\n",
    "\n",
    "... works exactly like the basic forecasting workflow, replace `predict` by a probabilistic method!"
   ]
  },
  {
   "cell_type": "code",
   "execution_count": null,
   "id": "painted-sullivan",
   "metadata": {},
   "outputs": [],
   "source": [
    "from sktime.datasets import load_airline\n",
    "from sktime.forecasting.theta import ThetaForecaster\n",
    "\n",
    "\n",
    "# step 1: data specification\n",
    "y = load_airline()\n",
    "# step 2: specifying forecasting horizon\n",
    "fh = [1, 2, 3, 4, 5, 6, 7, 8, 9, 10, 11, 12]\n",
    "# step 3: specifying the forecasting algorithm\n",
    "forecaster = ThetaForecaster(sp=12)\n",
    "# step 4: fitting the forecaster\n",
    "forecaster.fit(y, fh=fh)\n",
    "# step 5: querying predictions\n",
    "y_pred = forecaster.predict()\n",
    "\n",
    "# for probabilistic forecasting:\n",
    "#   call a probabilistic forecasting method after or instead of step 5\n",
    "y_pred_int = forecaster.predict_interval(coverage=0.9)\n",
    "y_pred_int"
   ]
  },
  {
   "cell_type": "markdown",
   "id": "2e3277ff",
   "metadata": {},
   "source": [
    "for illustration, plotting actuals and prediction intervals:"
   ]
  },
  {
   "cell_type": "code",
   "execution_count": null,
   "id": "fc91cc34",
   "metadata": {},
   "outputs": [],
   "source": [
    "from sktime.utils import plotting\n",
    "\n",
    "# also requires predictions\n",
    "y_pred = forecaster.predict()\n",
    "\n",
    "fig, ax = plotting.plot_series(\n",
    "    y, y_pred, labels=[\"y\", \"y_pred\"], pred_interval=y_pred_int\n",
    ")\n",
    "\n",
    "ax.legend();"
   ]
  },
  {
   "cell_type": "markdown",
   "id": "a864b9c1",
   "metadata": {},
   "source": [
    "**probabilistic forecasting methods in `sktime`**:\n",
    "\n",
    "* forecast intervals    - `predict_interval(fh=None, X=None, coverage=0.90)`\n",
    "* forecast quantiles    - `predict_quantiles(fh=None, X=None, alpha=[0.05, 0.95])`\n",
    "* forecast variance     - `predict_var(fh=None, X=None, cov=False)`\n",
    "* distribution forecast - `predict_proba(fh=None, X=None, marginal=True)`"
   ]
  },
  {
   "cell_type": "markdown",
   "id": "b57a3be0",
   "metadata": {},
   "source": [
    "To check which forecasters in `sktime` support probabilistic forecasting, use the `registry.all_estimators` utility and search for estimators which have the `capability:pred_int` tag (value `True`).\n",
    "\n",
    "For composites such as pipelines, a positive tag means that logic is implemented if (some or all) components support it."
   ]
  },
  {
   "cell_type": "markdown",
   "id": "4d944c96",
   "metadata": {},
   "source": [
    "---\n",
    "### Probabilistic forecasting interfaces in `sktime` \n",
    "\n",
    "This section:\n",
    "\n",
    "* walkthrough of probabilistic predict methods\n",
    "* multivariate and hierarchical data\n",
    "\n",
    "All forecasters with tag `capability:pred_int` provide the following:\n",
    "\n",
    "* forecast intervals    - `predict_interval(fh=None, X=None, coverage=0.90)`\n",
    "* forecast quantiles    - `predict_quantiles(fh=None, X=None, alpha=[0.05, 0.95])`\n",
    "* forecast variance     - `predict_var(fh=None, X=None, cov=False)`\n",
    "* distribution forecast - `predict_proba(fh=None, X=None, marginal=True)`\n",
    "\n",
    "Generalities:\n",
    "\n",
    "* methods do not change state, multiple can be called\n",
    "* `fh` is optional, if passed late\n",
    "* exogeneous data `X` can be passed"
   ]
  },
  {
   "cell_type": "code",
   "execution_count": null,
   "id": "85f32fff",
   "metadata": {},
   "outputs": [],
   "source": [
    "from sktime.datasets import load_airline\n",
    "from sktime.forecasting.theta import ThetaForecaster\n",
    "\n",
    "# until fit, identical with the simple workflow\n",
    "y = load_airline()\n",
    "\n",
    "fh = [1, 2, 3, 4, 5, 6, 7, 8, 9, 10, 11, 12]\n",
    "\n",
    "forecaster = ThetaForecaster(sp=12)\n",
    "forecaster.fit(y, fh=fh)"
   ]
  },
  {
   "cell_type": "markdown",
   "id": "52ff10e6",
   "metadata": {},
   "source": [
    "##### `predict_interval` - interval predictions"
   ]
  },
  {
   "cell_type": "markdown",
   "id": "4995fbc2",
   "metadata": {},
   "source": [
    "Inputs:\\\n",
    "`fh` - forecasting horizon (not necessary if seen in `fit`)\\\n",
    "`coverage`, float or list of floats, default=`0.9`\\\n",
    "nominal coverage(s) of the prediction interval(s) queried\n",
    "\n",
    "Output: `pandas.DataFrame`\\\n",
    "Row index is `fh`\\\n",
    "Column has multi-index:\\\n",
    "1st level = variable name from y in fit\\\n",
    "2nd level = coverage fractions in `coverage`\\\n",
    "3rd level = string \"lower\" or \"upper\"\\\n",
    "\n",
    "Entries = forecasts of lower/upper interval at nominal coverage in 2nd lvl, for var in 1st lvl, for time in row"
   ]
  },
  {
   "cell_type": "code",
   "execution_count": null,
   "id": "f81bcc0c",
   "metadata": {},
   "outputs": [],
   "source": [
    "coverage = 0.9\n",
    "y_pred_ints = forecaster.predict_interval(coverage=coverage)\n",
    "y_pred_ints"
   ]
  },
  {
   "cell_type": "markdown",
   "id": "3f9f840e",
   "metadata": {},
   "source": [
    "pretty-plotting the predictive interval forecasts:"
   ]
  },
  {
   "cell_type": "code",
   "execution_count": null,
   "id": "efa4f7a6",
   "metadata": {},
   "outputs": [],
   "source": [
    "from sktime.utils import plotting\n",
    "\n",
    "# also requires predictions\n",
    "y_pred = forecaster.predict()\n",
    "\n",
    "fig, ax = plotting.plot_series(\n",
    "    y, y_pred, labels=[\"y\", \"y_pred\"], pred_interval=y_pred_ints\n",
    ")\n",
    "\n",
    "ax.legend();"
   ]
  },
  {
   "cell_type": "markdown",
   "id": "3afcdc20",
   "metadata": {},
   "source": [
    "multiple coverages:"
   ]
  },
  {
   "cell_type": "code",
   "execution_count": null,
   "id": "534f4490",
   "metadata": {},
   "outputs": [],
   "source": [
    "coverage = [0.5, 0.9, 0.95]\n",
    "y_pred_ints = forecaster.predict_interval(coverage=coverage)\n",
    "y_pred_ints"
   ]
  },
  {
   "cell_type": "markdown",
   "id": "d00f1db2",
   "metadata": {},
   "source": [
    "##### `predict_quantiles` - quantile forecasts"
   ]
  },
  {
   "cell_type": "markdown",
   "id": "9468c5f4",
   "metadata": {},
   "source": [
    "Inputs:\\\n",
    "`fh` - forecasting horizon (not necessary if seen in `fit`)\\\n",
    "`alpha`, float or list of floats, default = `[0.1, 0.9]`\\\n",
    "quantile points at which quantiles are queried\n",
    "\n",
    "Output: `pandas.DataFrame`\\\n",
    "Row index is `fh`\\\n",
    "Column has multi-index:\\\n",
    "1st level = variable name from y in fit\\\n",
    "2nd level = quantile points in `alpha`\\\n",
    "\n",
    "Entries = forecasts of quantiles at quantile point in 2nd lvl, for var in 1st lvl, for time in row"
   ]
  },
  {
   "cell_type": "code",
   "execution_count": null,
   "id": "76770945",
   "metadata": {},
   "outputs": [],
   "source": [
    "alpha = [0.1, 0.25, 0.5, 0.75, 0.9]\n",
    "y_pred_quantiles = forecaster.predict_quantiles(alpha=alpha)\n",
    "y_pred_quantiles"
   ]
  },
  {
   "cell_type": "markdown",
   "id": "ef0fb2b9",
   "metadata": {},
   "source": [
    "pretty-plotting the quantile interval forecasts:"
   ]
  },
  {
   "cell_type": "code",
   "execution_count": null,
   "id": "00f9cb39",
   "metadata": {},
   "outputs": [],
   "source": [
    "from sktime.utils import plotting\n",
    "\n",
    "columns = [y_pred_quantiles[i] for i in y_pred_quantiles.columns]\n",
    "fig, ax = plotting.plot_series(y[-50:], *columns)"
   ]
  },
  {
   "cell_type": "markdown",
   "id": "c0002de5",
   "metadata": {},
   "source": [
    "##### `predict_var` - variance forecasts"
   ]
  },
  {
   "cell_type": "markdown",
   "id": "8566c184",
   "metadata": {},
   "source": [
    "Inputs:\\\n",
    "`fh` - forecasting horizon (not necessary if seen in `fit`)\\\n",
    "`cov`, boolean, default=False\\\n",
    "whether covariance forecasts should also be returned (not all estimators support this)\n",
    "\n",
    "Output: `pandas.DataFrame`, for cov=False:\\\n",
    "Row index is `fh`\\\n",
    "Column is equal to column index of `y` (variables)\n",
    "\n",
    "Entries = variance forecast for variable in col, for time in row"
   ]
  },
  {
   "cell_type": "code",
   "execution_count": null,
   "id": "4e997945",
   "metadata": {},
   "outputs": [],
   "source": [
    "y_pred_variance = forecaster.predict_var()\n",
    "y_pred_variance"
   ]
  },
  {
   "cell_type": "markdown",
   "id": "e25d8a7d",
   "metadata": {},
   "source": [
    "##### `predict_proba` - distribution forecasts aka \"full\" probabilistic forecasts"
   ]
  },
  {
   "cell_type": "markdown",
   "id": "16542db7",
   "metadata": {},
   "source": [
    "Inputs:\\\n",
    "`fh` - forecasting horizon (not necessary if seen in `fit`)\\\n",
    "\n",
    "Output: `skpro` `Distribution` object"
   ]
  },
  {
   "cell_type": "code",
   "execution_count": null,
   "id": "27d2e321",
   "metadata": {},
   "outputs": [],
   "source": [
    "y_pred_dist = forecaster.predict_proba()\n",
    "y_pred_dist"
   ]
  },
  {
   "cell_type": "code",
   "execution_count": null,
   "id": "b8b86880",
   "metadata": {},
   "outputs": [],
   "source": [
    "# obtaining quantiles\n",
    "y_pred_dist.quantile([0.1, 0.9])"
   ]
  },
  {
   "cell_type": "markdown",
   "id": "87acb079",
   "metadata": {},
   "source": [
    "##### a note on consistence of methods\n",
    "\n",
    "Outputs of `predict_interval`, `predict_quantiles`, `predict_var`, `predict_proba` are *typically* but not *necessarily* consistent with each other!\n",
    "\n",
    "Consistency is weak interface requirement but not strictly enforced."
   ]
  },
  {
   "cell_type": "markdown",
   "id": "da797a68",
   "metadata": {},
   "source": [
    "#### Probabilistic forecasting for multivariate and hierarchical data"
   ]
  },
  {
   "cell_type": "markdown",
   "id": "0b2ce785",
   "metadata": {},
   "source": [
    "multivariate data: first column index for different variables"
   ]
  },
  {
   "cell_type": "code",
   "execution_count": null,
   "id": "553d2e2b",
   "metadata": {},
   "outputs": [],
   "source": [
    "from sktime.datasets import load_longley\n",
    "from sktime.forecasting.var import VAR\n",
    "\n",
    "_, y = load_longley()\n",
    "\n",
    "mv_forecaster = VAR()\n",
    "\n",
    "mv_forecaster.fit(y, fh=[1, 2, 3])\n",
    "# mv_forecaster.predict_var()"
   ]
  },
  {
   "cell_type": "markdown",
   "id": "bd466ddc",
   "metadata": {},
   "source": [
    "hierarchical data: probabilistic forecasts per level are row-concatenated with a row hierarchy index"
   ]
  },
  {
   "cell_type": "code",
   "execution_count": null,
   "id": "040ee090",
   "metadata": {},
   "outputs": [],
   "source": [
    "from sktime.forecasting.arima import ARIMA\n",
    "from sktime.utils._testing.hierarchical import _make_hierarchical\n",
    "\n",
    "y_hier = _make_hierarchical()\n",
    "y_hier"
   ]
  },
  {
   "cell_type": "code",
   "execution_count": null,
   "id": "a49a126f",
   "metadata": {},
   "outputs": [],
   "source": [
    "forecaster = ARIMA()\n",
    "forecaster.fit(y_hier, fh=[1, 2, 3])\n",
    "forecaster.predict_interval()"
   ]
  },
  {
   "cell_type": "markdown",
   "id": "illegal-legend",
   "metadata": {},
   "source": [
    "---\n",
    "### Metrics for probabilistic forecasts and evaluation\n"
   ]
  },
  {
   "cell_type": "markdown",
   "id": "49c020c0",
   "metadata": {},
   "source": [
    "Same as for `skpro`, see there!\n",
    "\n",
    "* `predict_proba_function` outputs are the same as for `skpro`\n",
    "* metrics in `sktime` are identical with metrics in `skpro`\n",
    "* difference is how predictions are produced - forecasting, not regression"
   ]
  },
  {
   "cell_type": "code",
   "execution_count": null,
   "id": "660fc4ef",
   "metadata": {},
   "outputs": [],
   "source": [
    "import numpy as np\n",
    "\n",
    "from sktime.datasets import load_airline\n",
    "from sktime.forecasting.theta import ThetaForecaster\n",
    "\n",
    "y_train = load_airline()[0:24]  # train on 24 months, 1949 and 1950\n",
    "y_test = load_airline()[24:36]  # ground truth for 12 months in 1951\n",
    "\n",
    "# try to forecast 12 months ahead, from y_train\n",
    "fh = np.arange(1, 13)\n",
    "\n",
    "forecaster = ThetaForecaster(sp=12)\n",
    "forecaster.fit(y_train, fh=fh)\n",
    "\n",
    "pred_quantiles = forecaster.predict_quantiles(alpha=[0.1, 0.25, 0.5, 0.75, 0.9])\n",
    "pred_quantiles"
   ]
  },
  {
   "cell_type": "code",
   "execution_count": null,
   "id": "induced-shakespeare",
   "metadata": {},
   "outputs": [],
   "source": [
    "from sktime.performance_metrics.forecasting.probabilistic import PinballLoss\n",
    "\n",
    "pinball_loss = PinballLoss()\n",
    "pinball_loss(y_true=y_test, y_pred=pred_quantiles)"
   ]
  },
  {
   "cell_type": "code",
   "execution_count": null,
   "id": "c033800d",
   "metadata": {},
   "outputs": [],
   "source": [
    "pinball_loss.evaluate_by_index(y_true=y_test, y_pred=pred_quantiles)"
   ]
  },
  {
   "cell_type": "markdown",
   "id": "5dac797f",
   "metadata": {},
   "source": [
    "#### evaluation by backtesting"
   ]
  },
  {
   "cell_type": "code",
   "execution_count": null,
   "id": "15e0f857",
   "metadata": {},
   "outputs": [],
   "source": [
    "from sktime.datasets import load_airline\n",
    "from sktime.forecasting.model_evaluation import evaluate\n",
    "from sktime.forecasting.model_selection import ExpandingWindowSplitter\n",
    "from sktime.forecasting.theta import ThetaForecaster\n",
    "from sktime.performance_metrics.forecasting.probabilistic import PinballLoss\n",
    "\n",
    "# 1. define data\n",
    "y = load_airline()\n",
    "\n",
    "# 2. define splitting/backtesting regime\n",
    "fh = [1, 2, 3]\n",
    "cv = ExpandingWindowSplitter(step_length=12, fh=fh, initial_window=72)\n",
    "\n",
    "# 3. define loss to use\n",
    "loss = PinballLoss()\n",
    "# default is score_average=True and multi_output=\"uniform_average\", so gives a number\n",
    "\n",
    "forecaster = ThetaForecaster(sp=12)\n",
    "results = evaluate(\n",
    "    forecaster=forecaster, y=y, cv=cv, strategy=\"refit\", return_data=True, scoring=loss\n",
    ")\n",
    "results.iloc[:, :5].head()"
   ]
  },
  {
   "cell_type": "markdown",
   "id": "d2b98ad3",
   "metadata": {},
   "source": [
    "* each row is one train/test split in the walkforward setting\n",
    "* first col is the loss on the test fold\n",
    "* last two columns summarize length of training window, cutoff between train/test"
   ]
  },
  {
   "cell_type": "markdown",
   "id": "public-union",
   "metadata": {},
   "source": [
    "---\n",
    "### Advanced composition: pipelines, tuning, reduction, adding proba forecasts to any estimator\n"
   ]
  },
  {
   "cell_type": "markdown",
   "id": "02d2367c",
   "metadata": {},
   "source": [
    "composition = constructing \"composite\" estimators out of multiple \"component\" estimators\n",
    "\n",
    "* **reduction** = building estimator type A using estimator type B\n",
    "    * special case: adding proba forecasting capability to non-proba forecaster\n",
    "    * special case: using proba supervised learner for  proba forecasting\n",
    "* **pipelining** = chaining estimators, here: transformers to a forecaster\n",
    "* **tuning** = automated hyper-parameter fitting, usually via internal evaluation loop\n",
    "    * special case: grid parameter search and random parameter search tuning\n",
    "    * special case: \"Auto-ML\", optimizing not just estimator hyper-parameter but also choice of estimator"
   ]
  },
  {
   "cell_type": "markdown",
   "id": "88e72a7e",
   "metadata": {},
   "source": [
    "#### Adding probabilistic forecasts to non-probabilistic forecasters"
   ]
  },
  {
   "cell_type": "markdown",
   "id": "ea37cf77",
   "metadata": {},
   "source": [
    "start with a forecaster that does not produce probabilistic predictions:"
   ]
  },
  {
   "cell_type": "code",
   "execution_count": null,
   "id": "6abda0ed",
   "metadata": {},
   "outputs": [],
   "source": [
    "from sktime.forecasting.exp_smoothing import ExponentialSmoothing\n",
    "\n",
    "my_forecaster = ExponentialSmoothing()\n",
    "\n",
    "# does the forecaster support probabilistic predictions?\n",
    "my_forecaster.get_tag(\"capability:pred_int\")"
   ]
  },
  {
   "cell_type": "markdown",
   "id": "0cd78bfe",
   "metadata": {},
   "source": [
    "adding probabilistic predictions is possible via reduction wrappers:"
   ]
  },
  {
   "cell_type": "code",
   "execution_count": null,
   "id": "60b0664a",
   "metadata": {},
   "outputs": [],
   "source": [
    "# NaiveVariance adds intervals & variance via collecting past residuals\n",
    "from sktime.forecasting.naive import NaiveVariance\n",
    "\n",
    "# create a composite forecaster like this:\n",
    "my_forecaster_with_proba = NaiveVariance(my_forecaster)\n",
    "\n",
    "# does it support probabilistic predictions now?\n",
    "my_forecaster_with_proba.get_tag(\"capability:pred_int\")"
   ]
  },
  {
   "cell_type": "markdown",
   "id": "8a47135c",
   "metadata": {},
   "source": [
    "the composite can now be used like any probabilistic forecaster:"
   ]
  },
  {
   "cell_type": "code",
   "execution_count": null,
   "id": "99e6bc89",
   "metadata": {},
   "outputs": [],
   "source": [
    "y = load_airline()\n",
    "\n",
    "my_forecaster_with_proba.fit(y, fh=[1, 2, 3])\n",
    "my_forecaster_with_proba.predict_interval()"
   ]
  },
  {
   "cell_type": "markdown",
   "id": "453e7e23",
   "metadata": {},
   "source": [
    "wrappers of this type:\n",
    "\n",
    "* `NaiveVariance` (the \"baseline\" of adding proba to forecasts)\n",
    "* `ConformalIntervals`\n",
    "* `BaggingForecaster`, usable with\n",
    "    * `STLBootstrapTransformer`\n",
    "    * `MovingBlockBootstrapTransformer`\n",
    "    * `STLBootstrapTransformer`"
   ]
  },
  {
   "cell_type": "markdown",
   "id": "outstanding-campus",
   "metadata": {},
   "source": [
    "#### Tuning and AutoML "
   ]
  },
  {
   "cell_type": "markdown",
   "id": "4e913454",
   "metadata": {},
   "source": [
    "tuning and autoML with probabilistic forecasters works exactly like with \"ordinary\" forecasters\\\n",
    "via `ForecastingGridSearchCV` or `ForecastingRandomSearchCV`\n",
    "\n",
    "* change metric to tune to a probabilistic metric\n",
    "* use a corresponding probabilistic metric or loss function\n",
    "\n",
    "Internally, evaluation will be done using probabilistic metric, via backtesting evaluation.\n",
    "\n",
    "**important**: to evaluate the tuned estimator, use it in `evaluate` or a separate benchmarking workflow.\\\n",
    "Using internal metric/loss values amounts to in-sample evaluation, which is over-optimistic."
   ]
  },
  {
   "cell_type": "code",
   "execution_count": null,
   "id": "difficult-belarus",
   "metadata": {},
   "outputs": [],
   "source": [
    "from sktime.forecasting.model_selection import (\n",
    "    ForecastingGridSearchCV,\n",
    "    SlidingWindowSplitter,\n",
    ")\n",
    "from sktime.forecasting.theta import ThetaForecaster\n",
    "from sktime.performance_metrics.forecasting.probabilistic import PinballLoss\n",
    "\n",
    "# forecaster we want to tune\n",
    "forecaster = ThetaForecaster()\n",
    "\n",
    "# parameter grid to search over\n",
    "param_grid = {\"sp\": [1, 6, 12]}\n",
    "\n",
    "# evaluation/backtesting regime for *tuning*\n",
    "fh = [1, 2, 3]  # fh for tuning regime, does not need to be same as in fit/predict!\n",
    "cv = SlidingWindowSplitter(window_length=36, fh=fh)\n",
    "scoring = PinballLoss()\n",
    "\n",
    "# construct the composite forecaster with grid search compositor\n",
    "gscv = ForecastingGridSearchCV(\n",
    "    forecaster, cv=cv, param_grid=param_grid, scoring=scoring, strategy=\"refit\"\n",
    ")"
   ]
  },
  {
   "cell_type": "code",
   "execution_count": null,
   "id": "562b301e",
   "metadata": {},
   "outputs": [],
   "source": [
    "from sktime.datasets import load_airline\n",
    "\n",
    "y = load_airline()[:60]\n",
    "\n",
    "gscv.fit(y, fh=fh)"
   ]
  },
  {
   "cell_type": "markdown",
   "id": "69a297df",
   "metadata": {},
   "source": [
    "inspect hyper-parameter fit obtained by tuning:"
   ]
  },
  {
   "cell_type": "code",
   "execution_count": null,
   "id": "comparative-sampling",
   "metadata": {},
   "outputs": [],
   "source": [
    "gscv.best_params_"
   ]
  },
  {
   "cell_type": "markdown",
   "id": "ca5245bb",
   "metadata": {},
   "source": [
    "obtain predictions:"
   ]
  },
  {
   "cell_type": "code",
   "execution_count": null,
   "id": "133d779e",
   "metadata": {},
   "outputs": [],
   "source": [
    "gscv.predict_interval()"
   ]
  },
  {
   "cell_type": "markdown",
   "id": "a287cf6e",
   "metadata": {},
   "source": [
    "for AutoML, use the `MultiplexForecaster` to select among multiple forecasters:"
   ]
  },
  {
   "cell_type": "code",
   "execution_count": null,
   "id": "differential-growth",
   "metadata": {},
   "outputs": [],
   "source": [
    "from sktime.forecasting.compose import MultiplexForecaster\n",
    "from sktime.forecasting.exp_smoothing import ExponentialSmoothing\n",
    "from sktime.forecasting.naive import NaiveForecaster, NaiveVariance\n",
    "\n",
    "forecaster = MultiplexForecaster(\n",
    "    forecasters=[\n",
    "        (\"naive\", NaiveForecaster(strategy=\"last\")),\n",
    "        (\"ets\", ExponentialSmoothing(trend=\"add\", sp=12)),\n",
    "    ],\n",
    ")\n",
    "\n",
    "forecaster_param_grid = {\"selected_forecaster\": [\"ets\", \"naive\"]}\n",
    "gscv = ForecastingGridSearchCV(forecaster, cv=cv, param_grid=forecaster_param_grid)\n",
    "\n",
    "gscv.fit(y)\n",
    "gscv.best_params_"
   ]
  },
  {
   "cell_type": "markdown",
   "id": "severe-belize",
   "metadata": {},
   "source": [
    "#### Pipelines with probabilistic forecasters"
   ]
  },
  {
   "cell_type": "markdown",
   "id": "dd70b6a2",
   "metadata": {},
   "source": [
    "`sktime` pipelines are compatible with probabilistic forecasters:\n",
    "\n",
    "* `ForecastingPipeline` applies transformers to the exogeneous `X` argument before passing them to the forecaster\n",
    "* `TransformedTargetForecaster` transforms `y` and back-transforms forecasts, including interval or quantile forecasts"
   ]
  },
  {
   "cell_type": "markdown",
   "id": "3ce8b6f1",
   "metadata": {},
   "source": [
    "`ForecastingPipeline` takes a chain of transformers and forecasters, say,\n",
    "\n",
    "`[t1, t2, ..., tn, f]`,\n",
    "\n",
    "where `t[i]` are forecasters that pre-process, and `tp[i]` are forecasters that postprocess\n",
    "\n",
    "##### `fit(y, X, fh)` does:\n",
    "\n",
    "`X1 = t1.fit_transform(X)`\\\n",
    "`X2 = t2.fit_transform(X1)`\\\n",
    "etc\\\n",
    "`X[n] = t3.fit_transform(X[n-1])`\\\n",
    "\n",
    "`f.fit(y=y, x=X[n])`\n",
    "\n",
    "##### `predict_[sth](X, fh)` does:\n",
    "\n",
    "`X1 = t1.transform(X)`\\\n",
    "`X2 = t2.transform(X1)`\\\n",
    "etc\\\n",
    "`X[n] = t3.transform(X[n-1])`\n",
    "\n",
    "`f.predict_[sth](X=X[n], fh)`"
   ]
  },
  {
   "cell_type": "code",
   "execution_count": null,
   "id": "dcab36a8",
   "metadata": {},
   "outputs": [],
   "source": [
    "from sktime.datasets import load_macroeconomic\n",
    "from sktime.forecasting.arima import ARIMA\n",
    "from sktime.forecasting.compose import ForecastingPipeline\n",
    "from sktime.forecasting.model_selection import temporal_train_test_split\n",
    "from sktime.transformations.series.impute import Imputer"
   ]
  },
  {
   "cell_type": "code",
   "execution_count": null,
   "id": "610257c8",
   "metadata": {},
   "outputs": [],
   "source": [
    "data = load_macroeconomic()\n",
    "y = data[\"unemp\"]\n",
    "X = data.drop(columns=[\"unemp\"])\n",
    "\n",
    "y_train, y_test, X_train, X_test = temporal_train_test_split(y, X)"
   ]
  },
  {
   "cell_type": "code",
   "execution_count": null,
   "id": "1c04ef29",
   "metadata": {},
   "outputs": [],
   "source": [
    "forecaster = ForecastingPipeline(\n",
    "    steps=[\n",
    "        (\"imputer\", Imputer(method=\"mean\")),\n",
    "        (\"forecaster\", ARIMA(suppress_warnings=True)),\n",
    "    ]\n",
    ")\n",
    "forecaster.fit(y=y_train, X=X_train, fh=X_test.index[:5])\n",
    "forecaster.predict_interval(X=X_test[:5])"
   ]
  },
  {
   "cell_type": "markdown",
   "id": "0081f4b9",
   "metadata": {},
   "source": [
    "`TransformedTargetForecaster` takes a chain of transformers and forecasters, say,\n",
    "\n",
    "`[t1, t2, ..., tn, f, tp1, tp2, ..., tk]`,\n",
    "\n",
    "where `t[i]` are forecasters that pre-process, and `tp[i]` are forecasters that postprocess\n",
    "\n",
    "##### `fit(y, X, fh)` does:\\\n",
    "`y1 = t1.fit_transform(y)`\\\n",
    "`y2 = t2.fit_transform(y1)`\\\n",
    "`y3 = t3.fit_transform(y2)`\\\n",
    "etc\\\n",
    "`y[n] = t3.fit_transform(y[n-1])`\n",
    "\n",
    "`f.fit(y[n])`\n",
    "\n",
    "`yp1 = tp1.fit_transform(yn)`\\\n",
    "`yp2 = tp2.fit_transform(yp1)`\\\n",
    "`yp3 = tp3.fit_transform(yp2)`\\\n",
    "etc\n",
    "\n",
    "##### `predict_quantiles(y, X, fh)` does:\n",
    "\n",
    "`y1 = t1.transform(y)`\\\n",
    "`y2 = t2.transform(y1)`\\\n",
    "etc\\\n",
    "`y[n] = t3.transform(y[n-1])`\n",
    "\n",
    "`y_pred = f.predict_quantiles(y[n])`\n",
    "\n",
    "`y_pred = t[n].inverse_transform(y_pred)`\\\n",
    "`y_pred = t[n-1].inverse_transform(y_pred)`\\\n",
    "etc\\\n",
    "`y_pred = t1.inverse_transform(y_pred)`\\\n",
    "`y_pred = tp1.transform(y_pred)`\\\n",
    "`y_pred = tp2.transform(y_pred)`\\\n",
    "etc\\\n",
    "`y_pred = tp[n].transform(y_pred)`\\\n",
    "\n",
    "**Note**: the remaining proba predictions are inferred from `predict_quantiles`."
   ]
  },
  {
   "cell_type": "code",
   "execution_count": null,
   "id": "behavioral-anger",
   "metadata": {},
   "outputs": [],
   "source": [
    "from sktime.datasets import load_macroeconomic\n",
    "from sktime.forecasting.arima import ARIMA\n",
    "from sktime.forecasting.compose import TransformedTargetForecaster\n",
    "from sktime.transformations.series.detrend import Deseasonalizer, Detrender"
   ]
  },
  {
   "cell_type": "code",
   "execution_count": null,
   "id": "5b4f08da",
   "metadata": {},
   "outputs": [],
   "source": [
    "data = load_macroeconomic()\n",
    "y = data[[\"unemp\"]]"
   ]
  },
  {
   "cell_type": "code",
   "execution_count": null,
   "id": "underlying-australia",
   "metadata": {},
   "outputs": [],
   "source": [
    "forecaster = TransformedTargetForecaster(\n",
    "    [\n",
    "        (\"deseasonalize\", Deseasonalizer(sp=12)),\n",
    "        (\"detrend\", Detrender()),\n",
    "        (\"forecast\", ARIMA()),\n",
    "    ]\n",
    ")\n",
    "\n",
    "forecaster.fit(y, fh=[1, 2, 3])\n",
    "forecaster.predict_interval()"
   ]
  },
  {
   "cell_type": "code",
   "execution_count": null,
   "id": "8c47e57b",
   "metadata": {},
   "outputs": [],
   "source": [
    "forecaster.predict_quantiles()"
   ]
  },
  {
   "cell_type": "markdown",
   "id": "15246bc7",
   "metadata": {},
   "source": [
    "quick creation also possible via the `*` dunder method, same pipeline:"
   ]
  },
  {
   "cell_type": "code",
   "execution_count": null,
   "id": "07deb7ec",
   "metadata": {},
   "outputs": [],
   "source": [
    "forecaster = Deseasonalizer(sp=12) * Detrender() * ARIMA()"
   ]
  },
  {
   "cell_type": "code",
   "execution_count": null,
   "id": "4c9e9228",
   "metadata": {},
   "outputs": [],
   "source": [
    "forecaster.fit(y, fh=[1, 2, 3])\n",
    "forecaster.predict_interval()"
   ]
  },
  {
   "cell_type": "markdown",
   "id": "yellow-guarantee",
   "metadata": {},
   "source": [
    "---\n",
    "## Building your own probabilistic forecaster\n",
    "\n",
    "Getting started:\n",
    "\n",
    "* follow the [\"implementing estimator\" developer guide](https://www.sktime.net/en/stable/developer_guide/add_estimators.html)\n",
    "* use the advanced [forecasting extension template](https://github.com/sktime/sktime/blob/main/extension_templates/forecasting.py)\n",
    "\n",
    "Extension template = python \"fill-in\" template with to-do blocks that allow you to implement your own, sktime-compatible forecasting algorithm.\n",
    "\n",
    "Check estimators using `check_estimator`\n",
    "\n",
    "For probabilistic forecasting:\n",
    "\n",
    "* implement at least one of `predict_quantiles`, `predict_interval`, `predict_var`, `predict_proba`\n",
    "* optimally, implement all, unless identical with defaulting behaviour as below\n",
    "* if only one is implemented, others use following defaults (in this sequence, dependent availability):\n",
    "    * `predict_interval` uses quantiles from `predict_quantiles` and vice versa\n",
    "    * `predict_var` uses variance from `predict_proba`, or variance of normal with IQR as obtained from `predict_quantiles`\n",
    "    * `predict_interval` or `predict_quantiles` uses quantiles from `predict_proba` distribution\n",
    "    * `predict_proba` returns normal with mean `predict` and variance `predict_var`\n",
    "* so if predictive residuals not normal, implement `predict_proba` or `predict_quantiles`\n",
    "* if interfacing, implement the ones where least \"conversion\" is necessary\n",
    "* ensure to set the `capability:pred_int` tag to `True`\n"
   ]
  },
  {
   "cell_type": "code",
   "execution_count": null,
   "id": "59af90ce",
   "metadata": {},
   "outputs": [],
   "source": [
    "# estimator checking on the fly using check_estimator\n",
    "\n",
    "# suppose NaiveForecaster is your new estimator\n",
    "from sktime.forecasting.naive import NaiveForecaster\n",
    "\n",
    "# check the estimator like this\n",
    "\n",
    "# uncomment this block to run\n",
    "\n",
    "# from sktime.utils.estimator_checks import check_estimator\n",
    "#\n",
    "# check_estimator(NaiveForecaster)\n",
    "\n",
    "# this prints any failed tests, and returns dictionary with\n",
    "#   keys of test runs and results from the test run\n",
    "# run individual tests using the tests_to_run arg or the fixtures_to_run_arg\n",
    "#   these need to be identical to test or test/fixture names, see docstring"
   ]
  },
  {
   "cell_type": "code",
   "execution_count": null,
   "id": "12cdfc8e",
   "metadata": {},
   "outputs": [],
   "source": [
    "# to raise errors for use in traceback debugging:\n",
    "\n",
    "# uncomment next line to run\n",
    "# check_estimator(NaiveForecaster, raise_exceptions=True)\n",
    "\n",
    "# this does not raise an error since NaiveForecaster is fine, but would if it weren't"
   ]
  },
  {
   "cell_type": "markdown",
   "id": "sunrise-eleven",
   "metadata": {},
   "source": [
    "---\n",
    "## Summary"
   ]
  },
  {
   "cell_type": "markdown",
   "id": "imperial-narrow",
   "metadata": {},
   "source": [
    "* unified API for probabilistic forecasting and probabilistic metrics\n",
    "* integrating other packages (e.g. scikit-learn, statsmodels, pmdarima, prophet)\n",
    "* interface for composite model building is same, proba or not (pipelining, ensembling, tuning, reduction)\n",
    "* easily extensible with custom estimators\n",
    "\n",
    "### Useful resources\n",
    "* For more details, take a look at [our paper on forecasting with sktime](https://arxiv.org/abs/2005.08067) in which we discuss the forecasting API in more detail and use it to replicate and extend the M4 study.\n",
    "* For a good introduction to forecasting, see [Hyndman, Rob J., and George Athanasopoulos. Forecasting: principles and practice. OTexts, 2018](https://otexts.com/fpp2/).\n",
    "* For comparative benchmarking studies/forecasting competitions, see the [M4 competition](https://www.sciencedirect.com/science/article/pii/S0169207019301128) and the [M5 competition](https://www.kaggle.com/c/m5-forecasting-accuracy/overview).\n"
   ]
  },
  {
   "cell_type": "markdown",
   "id": "ae7447f2",
   "metadata": {},
   "source": [
    "### Credits\n",
    "\n",
    "notebook creation: fkiraly\n",
    "\n",
    "probablistic forecasting framework: fkiraly, kejsitake\\\n",
    "probabilistic metrics, tuning: eenticott-shell, fkiraly\\\n",
    "probabilistic estimators: aiwalter, fkiraly, ilyasmoutawwakil, k1m190r, kejsitake"
   ]
  }
 ],
 "metadata": {
  "kernelspec": {
   "display_name": "Python 3 (ipykernel)",
   "language": "python",
   "name": "python3"
  },
  "language_info": {
   "codemirror_mode": {
    "name": "ipython",
    "version": 3
   },
   "file_extension": ".py",
   "mimetype": "text/x-python",
   "name": "python",
   "nbconvert_exporter": "python",
   "pygments_lexer": "ipython3",
   "version": "3.11.3"
  }
 },
 "nbformat": 4,
 "nbformat_minor": 5
}
